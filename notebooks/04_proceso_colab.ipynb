{
 "cells": [
  {
   "cell_type": "markdown",
   "id": "4717323e",
   "metadata": {},
   "source": [
    "# Pipeline completo: Preprocesado, Modelado y Evaluación en Google Colab\n",
    "Este notebook ejecuta el flujo completo para clasificación de tumores cerebrales en imágenes MRI: descarga/preprocesado, entrenamiento de un modelo CNN y evaluación.\n",
    "\n",
    "**Asegúrate de tener tu archivo `kaggle.json` para descargar el dataset desde Kaggle.**"
   ]
  },
  {
   "cell_type": "markdown",
   "id": "bb194465",
   "metadata": {},
   "source": [
    "## 1. Instalación de dependencias y configuración de entorno Colab"
   ]
  },
  {
   "cell_type": "code",
   "execution_count": null,
   "id": "cad07447",
   "metadata": {},
   "outputs": [],
   "source": [
    "# Instalar librerías necesarias\n",
    "!pip install kaggle opencv-python-headless seaborn tensorflow scikit-learn --quiet\n",
    "import os, shutil, zipfile, cv2, numpy as np, matplotlib.pyplot as plt, seaborn as sns\n",
    "from glob import glob\n",
    "from PIL import Image\n",
    "from sklearn.model_selection import train_test_split\n",
    "from sklearn.metrics import confusion_matrix, classification_report\n",
    "import tensorflow as tf"
   ]
  },
  {
   "cell_type": "markdown",
   "id": "18e207ab",
   "metadata": {},
   "source": [
    "## 2. Descarga del dataset desde Kaggle"
   ]
  },
  {
   "cell_type": "code",
   "execution_count": null,
   "id": "1b150036",
   "metadata": {},
   "outputs": [],
   "source": [
    "# Subir kaggle.json manualmente\n",
    "from google.colab import files\n",
    "files.upload()  # Sube tu kaggle.json aquí\n",
    "os.makedirs('/root/.kaggle', exist_ok=True)\n",
    "shutil.move('kaggle.json', '/root/.kaggle/kaggle.json')\n",
    "os.chmod('/root/.kaggle/kaggle.json', 0o600)\n",
    "!kaggle datasets download -d orvile/brain-cancer-mri-dataset -p /content/data --unzip"
   ]
  },
  {
   "cell_type": "markdown",
   "id": "e08be487",
   "metadata": {},
   "source": [
    "## 3. Reorganización y verificación de carpetas"
   ]
  },
  {
   "cell_type": "code",
   "execution_count": null,
   "id": "697259c0",
   "metadata": {},
   "outputs": [],
   "source": [
    "# Mover carpetas de clase a /content/data/original\n",
    "os.makedirs('/content/data/original', exist_ok=True)\n",
    "clases = ['brain_glioma', 'brain_menin', 'brain_tumor']\n",
    "for clase in clases:\n",
    "    origen = f'/content/data/brain-cancer-mri-dataset/{clase}'\n",
    "    destino = f'/content/data/original/{clase}'\n",
    "    if os.path.exists(origen) and not os.path.exists(destino):\n",
    "        shutil.move(origen, destino)\n",
    "# Eliminar carpeta vacía\n",
    "try: shutil.rmtree('/content/data/brain-cancer-mri-dataset')\n",
    "except: pass\n",
    "# Verificar imágenes\n",
    "for clase in clases:\n",
    "    n = len(glob(f'/content/data/original/{clase}/*.jpg'))\n",
    "    print(f'{clase}: {n} imágenes')"
   ]
  },
  {
   "cell_type": "markdown",
   "id": "fd2c8948",
   "metadata": {},
   "source": [
    "## 4. Preprocesado de imágenes y guardado"
   ]
  },
  {
   "cell_type": "code",
   "execution_count": null,
   "id": "bb318d28",
   "metadata": {},
   "outputs": [],
   "source": [
    "def preprocesar_imagen(img_path, size=(224,224)):\n",
    "    img = cv2.imread(img_path, cv2.IMREAD_GRAYSCALE)\n",
    "    if img is None:\n",
    "        with Image.open(img_path) as pil_img:\n",
    "            img = np.array(pil_img.convert('L'))\n",
    "    _, thresh = cv2.threshold(img, 5, 255, cv2.THRESH_BINARY)\n",
    "    coords = cv2.findNonZero(thresh)\n",
    "    if coords is not None:\n",
    "        x, y, w, h = cv2.boundingRect(coords)\n",
    "        img = img[y:y+h, x:x+w]\n",
    "    img = cv2.resize(img, size)\n",
    "    img = cv2.medianBlur(img, 5)\n",
    "    img = cv2.equalizeHist(img)\n",
    "    img = img.astype(np.float32)\n",
    "    img = (img - img.min()) / (img.max() - img.min() + 1e-8)\n",
    "    return img\n",
    "# Guardar preprocesadas\n",
    "os.makedirs('/content/data/preprocesadas', exist_ok=True)\n",
    "for clase in clases:\n",
    "    out_dir = f'/content/data/preprocesadas/{clase}'\n",
    "    os.makedirs(out_dir, exist_ok=True)\n",
    "    for img_path in glob(f'/content/data/original/{clase}/*.jpg'):\n",
    "        img_proc = preprocesar_imagen(img_path)\n",
    "        img_uint8 = (img_proc * 255).clip(0,255).astype(np.uint8)\n",
    "        Image.fromarray(img_uint8).save(os.path.join(out_dir, os.path.basename(img_path)))"
   ]
  },
  {
   "cell_type": "markdown",
   "id": "40193b4e",
   "metadata": {},
   "source": [
    "## 5. Preparación de arrays de datos y etiquetas"
   ]
  },
  {
   "cell_type": "code",
   "execution_count": null,
   "id": "91d6314b",
   "metadata": {},
   "outputs": [],
   "source": [
    "X, y = [], []\n",
    "clase_a_idx = {c: i for i, c in enumerate(clases)}\n",
    "n_imagenes = 200  # Ajusta según recursos Colab\n",
    "for clase in clases:\n",
    "    imgs = glob(f'/content/data/preprocesadas/{clase}/*.jpg')[:n_imagenes]\n",
    "    for img_path in imgs:\n",
    "        img = preprocesar_imagen(img_path)\n",
    "        X.append(img)\n",
    "        y.append(clase_a_idx[clase])\n",
    "X = np.array(X)[..., np.newaxis]\n",
    "y = np.array(y)\n",
    "print('Shape X:', X.shape)\n",
    "print('Shape y:', y.shape)"
   ]
  },
  {
   "cell_type": "markdown",
   "id": "109cc843",
   "metadata": {},
   "source": [
    "## 6. División en train, val y test"
   ]
  },
  {
   "cell_type": "code",
   "execution_count": null,
   "id": "ddabd06a",
   "metadata": {},
   "outputs": [],
   "source": [
    "X_train, X_temp, y_train, y_temp = train_test_split(X, y, test_size=0.3, stratify=y, random_state=42)\n",
    "X_val, X_test, y_val, y_test = train_test_split(X_temp, y_temp, test_size=0.5, stratify=y_temp, random_state=42)\n",
    "print(f'Train: {X_train.shape[0]}, Val: {X_val.shape[0]}, Test: {X_test.shape[0]}')"
   ]
  },
  {
   "cell_type": "markdown",
   "id": "03691629",
   "metadata": {},
   "source": [
    "## 7. Modelado: Definición y entrenamiento de una CNN simple"
   ]
  },
  {
   "cell_type": "code",
   "execution_count": null,
   "id": "aa578a62",
   "metadata": {},
   "outputs": [],
   "source": [
    "from tensorflow.keras import layers, models\n",
    "input_shape = X_train.shape[1:]\n",
    "num_classes = len(clases)\n",
    "model = models.Sequential([\n",
    "    layers.Conv2D(32, (3,3), activation='relu', input_shape=input_shape),\n",
    "    layers.MaxPooling2D(2,2),\n",
    "    layers.Conv2D(64, (3,3), activation='relu'),\n",
    "    layers.MaxPooling2D(2,2),\n",
    "    layers.Flatten(),\n",
    "    layers.Dense(64, activation='relu'),\n",
    "    layers.Dense(num_classes, activation='softmax')\n",
    "])\n",
    "model.compile(optimizer='adam', loss='sparse_categorical_crossentropy', metrics=['accuracy'])\n",
    "model.summary()"
   ]
  },
  {
   "cell_type": "markdown",
   "id": "9ad857da",
   "metadata": {},
   "source": [
    "## 8. Entrenamiento del modelo"
   ]
  },
  {
   "cell_type": "code",
   "execution_count": null,
   "id": "151ce6c4",
   "metadata": {},
   "outputs": [],
   "source": [
    "history = model.fit(X_train, y_train, epochs=10, batch_size=32, validation_data=(X_val, y_val))"
   ]
  },
  {
   "cell_type": "markdown",
   "id": "a2872abd",
   "metadata": {},
   "source": [
    "## 9. Evaluación y visualización de resultados"
   ]
  },
  {
   "cell_type": "code",
   "execution_count": null,
   "id": "e651f900",
   "metadata": {},
   "outputs": [],
   "source": [
    "# Evaluación en test\n",
    "test_loss, test_acc = model.evaluate(X_test, y_test)\n",
    "print(f'Precisión en test: {test_acc:.4f}')\n",
    "# Matriz de confusión\n",
    "y_pred = np.argmax(model.predict(X_test), axis=1)\n",
    "cm = confusion_matrix(y_test, y_pred)\n",
    "plt.figure(figsize=(4,4))\n",
    "sns.heatmap(cm, annot=True, fmt='d', cmap='Blues', xticklabels=clases, yticklabels=clases)\n",
    "plt.xlabel('Predicción')\n",
    "plt.ylabel('Real')\n",
    "plt.title('Matriz de confusión')\n",
    "plt.show()\n",
    "# Reporte de clasificación\n",
    "print(classification_report(y_test, y_pred, target_names=clases))"
   ]
  }
 ],
 "metadata": {
  "language_info": {
   "name": "python"
  }
 },
 "nbformat": 4,
 "nbformat_minor": 5
}
